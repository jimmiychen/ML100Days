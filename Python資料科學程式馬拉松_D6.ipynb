{
  "nbformat": 4,
  "nbformat_minor": 0,
  "metadata": {
    "colab": {
      "name": "Python資料科學程式馬拉松_D6.ipynb",
      "provenance": [],
      "collapsed_sections": [],
      "authorship_tag": "ABX9TyOPpqc8lJJlPQlfvsi5JAa4",
      "include_colab_link": true
    },
    "kernelspec": {
      "name": "python3",
      "display_name": "Python 3"
    },
    "language_info": {
      "name": "python"
    }
  },
  "cells": [
    {
      "cell_type": "markdown",
      "metadata": {
        "id": "view-in-github",
        "colab_type": "text"
      },
      "source": [
        "<a href=\"https://colab.research.google.com/github/jimmiychen/ML100Days/blob/main/Python%E8%B3%87%E6%96%99%E7%A7%91%E5%AD%B8%E7%A8%8B%E5%BC%8F%E9%A6%AC%E6%8B%89%E6%9D%BE_D6.ipynb\" target=\"_parent\"><img src=\"https://colab.research.google.com/assets/colab-badge.svg\" alt=\"Open In Colab\"/></a>"
      ]
    },
    {
      "cell_type": "markdown",
      "metadata": {
        "id": "H2ZkzEomOPDI"
      },
      "source": [
        ""
      ]
    },
    {
      "cell_type": "markdown",
      "metadata": {
        "id": "n55rc6PhORbX"
      },
      "source": [
        "# **1.[簡答題] 請問下列這三種方法有什麼不同？**\n",
        "print(a.sum())\n",
        "print(np.sum(a))\n",
        "print(sum(a)) \n"
      ]
    },
    {
      "cell_type": "code",
      "metadata": {
        "colab": {
          "base_uri": "https://localhost:8080/"
        },
        "id": "Up9e2LoqOVTj",
        "outputId": "0ad9c88e-8d5a-4753-bc72-b5a198610de7"
      },
      "source": [
        "import numpy as np\n",
        "\n",
        "a=np.arange(5)\n",
        "print(\"a=\",a)\n",
        "print(a.sum())\n",
        "print(np.sum(a)) #較好\n",
        "print(sum(a))\n",
        "print(\"三種都一樣\")\n"
      ],
      "execution_count": 3,
      "outputs": [
        {
          "output_type": "stream",
          "name": "stdout",
          "text": [
            "a= [0 1 2 3 4]\n",
            "10\n",
            "10\n",
            "10\n",
            "三種都一樣\n"
          ]
        }
      ]
    },
    {
      "cell_type": "markdown",
      "metadata": {
        "id": "gKWMSityRhsd"
      },
      "source": [
        "# **2.請對一個 5x5 的隨機矩陣作正規化的操作。。**"
      ]
    },
    {
      "cell_type": "code",
      "metadata": {
        "colab": {
          "base_uri": "https://localhost:8080/"
        },
        "id": "uwpktm5aRrpS",
        "outputId": "368dfb29-9211-4247-e3b7-9ac74f4e3c13"
      },
      "source": [
        "import numpy as np\n",
        "\n",
        "a=np.random.rand(5,5)\n",
        "print(a)\n",
        "print(\"\\n\")\n",
        "print(\"Mean Function:\", np.mean(a))\n",
        "print(\"Std Function:\", np.std(a))\n",
        "b=(a-np.mean(a))/np.std(a)\n",
        "print(\"\\n\")\n",
        "print(\"Normalized: \",b)\n",
        "\n"
      ],
      "execution_count": 14,
      "outputs": [
        {
          "output_type": "stream",
          "name": "stdout",
          "text": [
            "[[0.40331318 0.75498566 0.82814349 0.07651285 0.15397658]\n",
            " [0.30374471 0.26544856 0.53820183 0.85260374 0.06203435]\n",
            " [0.46376467 0.24795239 0.78968593 0.34285282 0.7957117 ]\n",
            " [0.55230242 0.89711554 0.01292079 0.13025868 0.33283374]\n",
            " [0.53699842 0.35701527 0.53565976 0.75305906 0.25074106]]\n",
            "\n",
            "\n",
            "Mean Function: 0.4495134879341192\n",
            "Std Function: 0.26840402608966735\n",
            "\n",
            "\n",
            "Normalized:  [[-0.17212971  1.13810577  1.41067184 -1.38969836 -1.10108969]\n",
            " [-0.54309461 -0.6857756   0.33042851  1.50180404 -1.4436413 ]\n",
            " [ 0.05309602 -0.75096151  1.26738948 -0.39738847  1.28983985]\n",
            " [ 0.38296344  1.66764285 -1.626625   -1.18945612 -0.43471684]\n",
            " [ 0.32594495 -0.34462306  0.32095746  1.13092778 -0.74057171]]\n"
          ]
        }
      ]
    },
    {
      "cell_type": "markdown",
      "metadata": {
        "id": "sc6281gCdaVe"
      },
      "source": [
        "# **3.請建立一個長度等於 10 的正整數向量，並且將其中的最大值改成 -1。**"
      ]
    },
    {
      "cell_type": "code",
      "metadata": {
        "colab": {
          "base_uri": "https://localhost:8080/"
        },
        "id": "-evThrXLdq2c",
        "outputId": "1bdae637-3194-4658-ef6a-b967c3de429e"
      },
      "source": [
        "import numpy as np\n",
        "\n",
        "a=np.random.rand(10)\n",
        "print(\"原來\\n \",a)\n",
        "a[np.argmax(a)]=-1\n",
        "print(\"後來\\n \" ,a)\n"
      ],
      "execution_count": 21,
      "outputs": [
        {
          "output_type": "stream",
          "name": "stdout",
          "text": [
            "原來\n",
            "  [0.37322184 0.23978565 0.58501686 0.92182427 0.93765545 0.53113267\n",
            " 0.43084125 0.78254438 0.15655309 0.77912887]\n",
            "後來\n",
            "  [ 0.37322184  0.23978565  0.58501686  0.92182427 -1.          0.53113267\n",
            "  0.43084125  0.78254438  0.15655309  0.77912887]\n"
          ]
        }
      ]
    }
  ]
}