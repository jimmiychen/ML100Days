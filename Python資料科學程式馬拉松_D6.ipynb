{
  "nbformat": 4,
  "nbformat_minor": 0,
  "metadata": {
    "colab": {
      "name": "Python資料科學程式馬拉松_D6.ipynb",
      "provenance": [],
      "collapsed_sections": [],
      "authorship_tag": "ABX9TyO4QAvHwNQADfq2IuwcpWXE",
      "include_colab_link": true
    },
    "kernelspec": {
      "name": "python3",
      "display_name": "Python 3"
    },
    "language_info": {
      "name": "python"
    }
  },
  "cells": [
    {
      "cell_type": "markdown",
      "metadata": {
        "id": "view-in-github",
        "colab_type": "text"
      },
      "source": [
        "<a href=\"https://colab.research.google.com/github/jimmiychen/ML100Days/blob/main/Python%E8%B3%87%E6%96%99%E7%A7%91%E5%AD%B8%E7%A8%8B%E5%BC%8F%E9%A6%AC%E6%8B%89%E6%9D%BE_D6.ipynb\" target=\"_parent\"><img src=\"https://colab.research.google.com/assets/colab-badge.svg\" alt=\"Open In Colab\"/></a>"
      ]
    },
    {
      "cell_type": "markdown",
      "metadata": {
        "id": "H2ZkzEomOPDI"
      },
      "source": [
        ""
      ]
    },
    {
      "cell_type": "markdown",
      "metadata": {
        "id": "n55rc6PhORbX"
      },
      "source": [
        "# **1.[簡答題] 請問下列這三種方法有什麼不同？**\n",
        "print(a.sum())\n",
        "print(np.sum(a))\n",
        "print(sum(a)) \n"
      ]
    },
    {
      "cell_type": "code",
      "metadata": {
        "colab": {
          "base_uri": "https://localhost:8080/"
        },
        "id": "Up9e2LoqOVTj",
        "outputId": "0ad9c88e-8d5a-4753-bc72-b5a198610de7"
      },
      "source": [
        "import numpy as np\n",
        "\n",
        "a=np.arange(5)\n",
        "print(\"a=\",a)\n",
        "print(a.sum())\n",
        "print(np.sum(a)) #較好\n",
        "print(sum(a))\n",
        "print(\"三種都一樣\")\n"
      ],
      "execution_count": null,
      "outputs": [
        {
          "output_type": "stream",
          "name": "stdout",
          "text": [
            "a= [0 1 2 3 4]\n",
            "10\n",
            "10\n",
            "10\n",
            "三種都一樣\n"
          ]
        }
      ]
    },
    {
      "cell_type": "markdown",
      "metadata": {
        "id": "gKWMSityRhsd"
      },
      "source": [
        "# **2.請對一個 5x5 的隨機矩陣作正規化的操作。**"
      ]
    },
    {
      "cell_type": "code",
      "metadata": {
        "colab": {
          "base_uri": "https://localhost:8080/"
        },
        "id": "uwpktm5aRrpS",
        "outputId": "bc31a7b7-261e-4f4c-ad89-357596bfd380"
      },
      "source": [
        "import numpy as np\n",
        "\n",
        "a=np.random.rand(5,5)\n",
        "print(a)\n",
        "print(\"\\n\")\n",
        "print(\"Mean Function:\", np.mean(a))\n",
        "print(\"Std Function:\", np.std(a))\n",
        "b=(a-np.mean(a))/np.std(a)\n",
        "print(\"\\n\")\n",
        "print(\"Normalized: \",b)\n",
        "\n"
      ],
      "execution_count": 2,
      "outputs": [
        {
          "output_type": "stream",
          "name": "stdout",
          "text": [
            "[[0.45643386 0.96648988 0.67387963 0.56889404 0.30336503]\n",
            " [0.85009966 0.2880699  0.36487152 0.80993922 0.7406328 ]\n",
            " [0.75711996 0.86036785 0.43854277 0.87288392 0.92190652]\n",
            " [0.30707547 0.03018153 0.26734896 0.90919784 0.04717229]\n",
            " [0.13325449 0.13865926 0.89119625 0.06055002 0.77709988]]\n",
            "\n",
            "\n",
            "Mean Function: 0.5374093030364326\n",
            "Std Function: 0.3154207891975751\n",
            "\n",
            "\n",
            "Normalized:  [[-0.25672196  1.36034338  0.43266118  0.0998182  -0.74200649]\n",
            " [ 0.99134351 -0.79049767 -0.54700827  0.86402015  0.64429329]\n",
            " [ 0.69656364  1.02389746 -0.31344329  1.06357802  1.21899772]\n",
            " [-0.73024303 -1.60809873 -0.85619068  1.17870651 -1.55423177]\n",
            " [-1.28131953 -1.26418439  1.12163484 -1.51181946  0.75990737]]\n"
          ]
        }
      ]
    },
    {
      "cell_type": "markdown",
      "metadata": {
        "id": "sc6281gCdaVe"
      },
      "source": [
        "# **3.請建立一個長度等於 10 的正整數向量，並且將其中的最大值改成 -1。**"
      ]
    },
    {
      "cell_type": "code",
      "metadata": {
        "colab": {
          "base_uri": "https://localhost:8080/"
        },
        "id": "-evThrXLdq2c",
        "outputId": "1bdae637-3194-4658-ef6a-b967c3de429e"
      },
      "source": [
        "import numpy as np\n",
        "\n",
        "a=np.random.rand(10)\n",
        "print(\"原來\\n \",a)\n",
        "a[np.argmax(a)]=-1\n",
        "print(\"後來\\n \" ,a)\n"
      ],
      "execution_count": null,
      "outputs": [
        {
          "output_type": "stream",
          "name": "stdout",
          "text": [
            "原來\n",
            "  [0.37322184 0.23978565 0.58501686 0.92182427 0.93765545 0.53113267\n",
            " 0.43084125 0.78254438 0.15655309 0.77912887]\n",
            "後來\n",
            "  [ 0.37322184  0.23978565  0.58501686  0.92182427 -1.          0.53113267\n",
            "  0.43084125  0.78254438  0.15655309  0.77912887]\n"
          ]
        }
      ]
    }
  ]
}