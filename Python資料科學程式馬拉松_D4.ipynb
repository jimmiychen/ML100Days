{
  "nbformat": 4,
  "nbformat_minor": 0,
  "metadata": {
    "colab": {
      "name": "Python資料科學程式馬拉松_D4.ipynb",
      "provenance": [],
      "collapsed_sections": [],
      "authorship_tag": "ABX9TyNiqxHKUGDE8qxkfd04IMOy",
      "include_colab_link": true
    },
    "kernelspec": {
      "name": "python3",
      "display_name": "Python 3"
    },
    "language_info": {
      "name": "python"
    }
  },
  "cells": [
    {
      "cell_type": "markdown",
      "metadata": {
        "id": "view-in-github",
        "colab_type": "text"
      },
      "source": [
        "<a href=\"https://colab.research.google.com/github/jimmiychen/ML100Days/blob/main/Python%E8%B3%87%E6%96%99%E7%A7%91%E5%AD%B8%E7%A8%8B%E5%BC%8F%E9%A6%AC%E6%8B%89%E6%9D%BE_D4.ipynb\" target=\"_parent\"><img src=\"https://colab.research.google.com/assets/colab-badge.svg\" alt=\"Open In Colab\"/></a>"
      ]
    },
    {
      "cell_type": "markdown",
      "metadata": {
        "id": "H2ZkzEomOPDI"
      },
      "source": [
        ""
      ]
    },
    {
      "cell_type": "markdown",
      "metadata": {
        "id": "n55rc6PhORbX"
      },
      "source": [
        "# **[簡答題] 1.請問下列程式碼，運算結果分別為何？**\n"
      ]
    },
    {
      "cell_type": "code",
      "metadata": {
        "colab": {
          "base_uri": "https://localhost:8080/",
          "height": 264
        },
        "id": "Up9e2LoqOVTj",
        "outputId": "e0636b1b-0d9f-43f9-c8b6-37a3a534c014"
      },
      "source": [
        "import numpy as np\n",
        "\n",
        "a=np.array([20,30,40,50])\n",
        "b=np.array([1,2,3,4]) \n",
        "c=1\n",
        "d=np.array([1])\n",
        "e=np.array([1,2]) \n",
        "\n",
        "print(a+a)  #[40,60,80,100]\n",
        "print(a+b)  #[21,32,43,54]\n",
        "print(a+c)  #[21,31,41,51]\n",
        "print(a+d)  #[21,31,41,51]\n",
        "print(a+e)  #error "
      ],
      "execution_count": 2,
      "outputs": [
        {
          "output_type": "stream",
          "name": "stdout",
          "text": [
            "[ 40  60  80 100]\n",
            "[21 32 43 54]\n",
            "[21 31 41 51]\n",
            "[21 31 41 51]\n"
          ]
        },
        {
          "output_type": "error",
          "ename": "ValueError",
          "evalue": "ignored",
          "traceback": [
            "\u001b[0;31m---------------------------------------------------------------------------\u001b[0m",
            "\u001b[0;31mValueError\u001b[0m                                Traceback (most recent call last)",
            "\u001b[0;32m<ipython-input-2-a14eb40f8ad4>\u001b[0m in \u001b[0;36m<module>\u001b[0;34m()\u001b[0m\n\u001b[1;32m     11\u001b[0m \u001b[0mprint\u001b[0m\u001b[0;34m(\u001b[0m\u001b[0ma\u001b[0m\u001b[0;34m+\u001b[0m\u001b[0mc\u001b[0m\u001b[0;34m)\u001b[0m  \u001b[0;31m#[21,31,41,51]\u001b[0m\u001b[0;34m\u001b[0m\u001b[0;34m\u001b[0m\u001b[0m\n\u001b[1;32m     12\u001b[0m \u001b[0mprint\u001b[0m\u001b[0;34m(\u001b[0m\u001b[0ma\u001b[0m\u001b[0;34m+\u001b[0m\u001b[0md\u001b[0m\u001b[0;34m)\u001b[0m  \u001b[0;31m#[21,31,41,51]\u001b[0m\u001b[0;34m\u001b[0m\u001b[0;34m\u001b[0m\u001b[0m\n\u001b[0;32m---> 13\u001b[0;31m \u001b[0mprint\u001b[0m\u001b[0;34m(\u001b[0m\u001b[0ma\u001b[0m\u001b[0;34m+\u001b[0m\u001b[0me\u001b[0m\u001b[0;34m)\u001b[0m  \u001b[0;31m#error\u001b[0m\u001b[0;34m\u001b[0m\u001b[0;34m\u001b[0m\u001b[0m\n\u001b[0m",
            "\u001b[0;31mValueError\u001b[0m: operands could not be broadcast together with shapes (4,) (2,) "
          ]
        }
      ]
    },
    {
      "cell_type": "markdown",
      "metadata": {
        "id": "HShFfYhDPfZ_"
      },
      "source": [
        "Ans:\n",
        "1.   np.zeros產生預設值為1，且形狀固定之Array\n",
        "2.   np.empty產生形狀固定之Array，對於預設值則不是那麼在乎，故隨意給定一個很小的值即可\n",
        "3.   若一開始宣告Array不給定預設值，可能在後續進行運算時,出現不可預期之結果"
      ]
    },
    {
      "cell_type": "markdown",
      "metadata": {
        "id": "gKWMSityRhsd"
      },
      "source": [
        "# **2.在不用「整數亂數方法」的限制下，如何將包含小數的轉換整數？請將給定的 a 陣列當中的元素變成去掉小數變成整數。**"
      ]
    },
    {
      "cell_type": "code",
      "metadata": {
        "colab": {
          "base_uri": "https://localhost:8080/"
        },
        "id": "uwpktm5aRrpS",
        "outputId": "b09e22a9-aa78-402e-9918-feab0c3d8edf"
      },
      "source": [
        "import numpy as np\n",
        "\n",
        "a=np.random.rand(2,3) #產生一個2x3的random Array\n",
        "a=a*100\n",
        "\n",
        "a=np.around(a) #numpy中的np.around相當於python的round\n",
        "print(a)\n"
      ],
      "execution_count": null,
      "outputs": [
        {
          "output_type": "stream",
          "name": "stdout",
          "text": [
            "[[76. 79. 14.]\n",
            " [38.  7. 26.]]\n"
          ]
        }
      ]
    },
    {
      "cell_type": "markdown",
      "metadata": {
        "id": "oGpbXROLbGrU"
      },
      "source": [
        "# **3.承上題，怎樣可以限制整數的範圍介於 m - n 之間？請將給定的 a 陣列當中的元素的範圍調整成 m - n 之間。**"
      ]
    },
    {
      "cell_type": "code",
      "metadata": {
        "id": "rgmhB2-IbYic",
        "colab": {
          "base_uri": "https://localhost:8080/"
        },
        "outputId": "7534b70c-edde-400d-95e5-735c8fb0cd4c"
      },
      "source": [
        "import numpy as np\n",
        "\n",
        "a=np.random.rand(10,10) #產生一個10x10的random Array\n",
        "m=0\n",
        "n=100\n",
        "\n",
        "a=m+(a*(n-m)) #原來產生0~1之亂數，現在放大n-m倍，並平移m\n",
        "\n",
        "a=np.around(a) #numpy中的np.around相當於python的round\n",
        "print(a)\n"
      ],
      "execution_count": null,
      "outputs": [
        {
          "output_type": "stream",
          "name": "stdout",
          "text": [
            "[[ 84.  63.  67.  14.  50. 100.   7.  18.  77.  18.]\n",
            " [ 19.  42.  59.  80.  73.  29.  83.   7.  25.  49.]\n",
            " [ 40.  64.  14.  39.   3.  61.  89.  42.   9.  48.]\n",
            " [ 78.  92.  62.  85.  32.  51.  69.  26.  55.  88.]\n",
            " [ 49.  12.  26.  59.  95.  72.  66.  25.  35.  59.]\n",
            " [  3.  87.   1.  90.  38.   0.  84.  51.  86.  16.]\n",
            " [ 12.   5.  21.  38.  92.  73.  22.  21.  23.  84.]\n",
            " [ 58.  89.  66.  99.  70.  42.  44.   7.  91.  58.]\n",
            " [ 89.  70.  80.  77.  81.  67.  28.  21.  37.  24.]\n",
            " [ 88.  83.  24.  61.  60.  96.  76.  60.  51.  76.]]\n"
          ]
        }
      ]
    }
  ]
}