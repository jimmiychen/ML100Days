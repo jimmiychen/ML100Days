{
  "nbformat": 4,
  "nbformat_minor": 0,
  "metadata": {
    "colab": {
      "name": "Python資料科學程式馬拉松_D4.ipynb",
      "provenance": [],
      "collapsed_sections": [],
      "authorship_tag": "ABX9TyPjd/MFH5YWKNX6bvwDl7Zz",
      "include_colab_link": true
    },
    "kernelspec": {
      "name": "python3",
      "display_name": "Python 3"
    },
    "language_info": {
      "name": "python"
    }
  },
  "cells": [
    {
      "cell_type": "markdown",
      "metadata": {
        "id": "view-in-github",
        "colab_type": "text"
      },
      "source": [
        "<a href=\"https://colab.research.google.com/github/jimmiychen/ML100Days/blob/main/Python%E8%B3%87%E6%96%99%E7%A7%91%E5%AD%B8%E7%A8%8B%E5%BC%8F%E9%A6%AC%E6%8B%89%E6%9D%BE_D4.ipynb\" target=\"_parent\"><img src=\"https://colab.research.google.com/assets/colab-badge.svg\" alt=\"Open In Colab\"/></a>"
      ]
    },
    {
      "cell_type": "markdown",
      "metadata": {
        "id": "H2ZkzEomOPDI"
      },
      "source": [
        ""
      ]
    },
    {
      "cell_type": "markdown",
      "metadata": {
        "id": "n55rc6PhORbX"
      },
      "source": [
        "# **[簡答題] 1.請問下列程式碼，運算結果分別為何？**\n"
      ]
    },
    {
      "cell_type": "code",
      "metadata": {
        "colab": {
          "base_uri": "https://localhost:8080/",
          "height": 281
        },
        "id": "Up9e2LoqOVTj",
        "outputId": "e0636b1b-0d9f-43f9-c8b6-37a3a534c014"
      },
      "source": [
        "import numpy as np\n",
        "\n",
        "a=np.array([20,30,40,50])\n",
        "b=np.array([1,2,3,4]) \n",
        "c=1\n",
        "d=np.array([1])\n",
        "e=np.array([1,2]) \n",
        "\n",
        "print(a+a)  #[40,60,80,100]\n",
        "print(a+b)  #[21,32,43,54]\n",
        "print(a+c)  #[21,31,41,51]\n",
        "print(a+d)  #[21,31,41,51]\n",
        "print(a+e)  #error "
      ],
      "execution_count": 2,
      "outputs": [
        {
          "output_type": "stream",
          "name": "stdout",
          "text": [
            "[ 40  60  80 100]\n",
            "[21 32 43 54]\n",
            "[21 31 41 51]\n",
            "[21 31 41 51]\n"
          ]
        },
        {
          "output_type": "error",
          "ename": "ValueError",
          "evalue": "ignored",
          "traceback": [
            "\u001b[0;31m---------------------------------------------------------------------------\u001b[0m",
            "\u001b[0;31mValueError\u001b[0m                                Traceback (most recent call last)",
            "\u001b[0;32m<ipython-input-2-a14eb40f8ad4>\u001b[0m in \u001b[0;36m<module>\u001b[0;34m()\u001b[0m\n\u001b[1;32m     11\u001b[0m \u001b[0mprint\u001b[0m\u001b[0;34m(\u001b[0m\u001b[0ma\u001b[0m\u001b[0;34m+\u001b[0m\u001b[0mc\u001b[0m\u001b[0;34m)\u001b[0m  \u001b[0;31m#[21,31,41,51]\u001b[0m\u001b[0;34m\u001b[0m\u001b[0;34m\u001b[0m\u001b[0m\n\u001b[1;32m     12\u001b[0m \u001b[0mprint\u001b[0m\u001b[0;34m(\u001b[0m\u001b[0ma\u001b[0m\u001b[0;34m+\u001b[0m\u001b[0md\u001b[0m\u001b[0;34m)\u001b[0m  \u001b[0;31m#[21,31,41,51]\u001b[0m\u001b[0;34m\u001b[0m\u001b[0;34m\u001b[0m\u001b[0m\n\u001b[0;32m---> 13\u001b[0;31m \u001b[0mprint\u001b[0m\u001b[0;34m(\u001b[0m\u001b[0ma\u001b[0m\u001b[0;34m+\u001b[0m\u001b[0me\u001b[0m\u001b[0;34m)\u001b[0m  \u001b[0;31m#error\u001b[0m\u001b[0;34m\u001b[0m\u001b[0;34m\u001b[0m\u001b[0m\n\u001b[0m",
            "\u001b[0;31mValueError\u001b[0m: operands could not be broadcast together with shapes (4,) (2,) "
          ]
        }
      ]
    },
    {
      "cell_type": "markdown",
      "metadata": {
        "id": "HShFfYhDPfZ_"
      },
      "source": [
        "Ans:\n",
        "1.   Array a 自己加自己\n",
        "2.   Array a 加 Array b\n",
        "3.   Array a 加 1 (廣播)\n",
        "4.   同上，Array a 加 1 (廣播)\n",
        "5.   維度不同，無法相加，故出現錯誤"
      ]
    },
    {
      "cell_type": "markdown",
      "metadata": {
        "id": "gKWMSityRhsd"
      },
      "source": [
        "# **2.如何在不用迴圈的情況下計算 (A+B)*(-A/2) ？那用迴圈怎麼做？。**"
      ]
    },
    {
      "cell_type": "code",
      "metadata": {
        "colab": {
          "base_uri": "https://localhost:8080/"
        },
        "id": "uwpktm5aRrpS",
        "outputId": "e63924d6-db3d-48ce-ea64-c364f1dcb153"
      },
      "source": [
        "import numpy as np\n",
        "\n",
        "a=np.ones(3)*1\n",
        "b=np.ones(3)*2\n",
        "\n",
        "#without loop\n",
        "c=[]\n",
        "c=(a+b)*(-a/2)\n",
        "print(\"不用迴圈\",c)\n",
        "\n",
        "#with loop\n",
        "d=np.empty(3)\n",
        "for i in range(0,a.shape[0]):\n",
        "    d[i]=(a[i]+b[i])*(-a[i]/2)\n",
        "\n",
        "print(\"用迴圈  \",d)"
      ],
      "execution_count": 36,
      "outputs": [
        {
          "output_type": "stream",
          "name": "stdout",
          "text": [
            "不用迴圈 [-1.5 -1.5 -1.5]\n",
            "用迴圈   [-1.5 -1.5 -1.5]\n"
          ]
        }
      ]
    },
    {
      "cell_type": "markdown",
      "metadata": {
        "id": "oGpbXROLbGrU"
      },
      "source": [
        "# **3.請問如何計算「1x6 的單位矩陣」和「6x1 的單位矩陣」的內積和外積？。**"
      ]
    },
    {
      "cell_type": "code",
      "metadata": {
        "id": "rgmhB2-IbYic",
        "colab": {
          "base_uri": "https://localhost:8080/"
        },
        "outputId": "043c0c1e-53cd-447e-97a6-be40c69768d7"
      },
      "source": [
        "import numpy as np\n",
        "\n",
        "a=np.ones((1,6))\n",
        "b=np.ones((6,1))\n",
        "\n",
        "print(\"外積\",a*b)\n",
        "print(\"\\n\")\n",
        "print(\"內積\",a@b)\n"
      ],
      "execution_count": 38,
      "outputs": [
        {
          "output_type": "stream",
          "name": "stdout",
          "text": [
            "外積 [[1. 1. 1. 1. 1. 1.]\n",
            " [1. 1. 1. 1. 1. 1.]\n",
            " [1. 1. 1. 1. 1. 1.]\n",
            " [1. 1. 1. 1. 1. 1.]\n",
            " [1. 1. 1. 1. 1. 1.]\n",
            " [1. 1. 1. 1. 1. 1.]]\n",
            "\n",
            "\n",
            "內積 [[6.]]\n"
          ]
        }
      ]
    }
  ]
}