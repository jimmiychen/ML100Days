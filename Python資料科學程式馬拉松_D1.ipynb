{
  "nbformat": 4,
  "nbformat_minor": 0,
  "metadata": {
    "colab": {
      "name": "Python資料科學程式馬拉松_D1.ipynb",
      "provenance": [],
      "collapsed_sections": [],
      "authorship_tag": "ABX9TyO5/Qz8XvfQVTAHtLdyO2p3",
      "include_colab_link": true
    },
    "kernelspec": {
      "name": "python3",
      "display_name": "Python 3"
    },
    "language_info": {
      "name": "python"
    }
  },
  "cells": [
    {
      "cell_type": "markdown",
      "metadata": {
        "id": "view-in-github",
        "colab_type": "text"
      },
      "source": [
        "<a href=\"https://colab.research.google.com/github/jimmiychen/ML100Days/blob/main/Python%E8%B3%87%E6%96%99%E7%A7%91%E5%AD%B8%E7%A8%8B%E5%BC%8F%E9%A6%AC%E6%8B%89%E6%9D%BE_D1.ipynb\" target=\"_parent\"><img src=\"https://colab.research.google.com/assets/colab-badge.svg\" alt=\"Open In Colab\"/></a>"
      ]
    },
    {
      "cell_type": "markdown",
      "metadata": {
        "id": "H2ZkzEomOPDI"
      },
      "source": [
        ""
      ]
    },
    {
      "cell_type": "markdown",
      "metadata": {
        "id": "n55rc6PhORbX"
      },
      "source": [
        "**[簡答題] 1.請問下列兩種將 Array 轉換成 List 的方式有何不同？**\n"
      ]
    },
    {
      "cell_type": "code",
      "metadata": {
        "colab": {
          "base_uri": "https://localhost:8080/"
        },
        "id": "Up9e2LoqOVTj",
        "outputId": "be9cf56b-55ff-454c-d806-dca8d0ba85b9"
      },
      "source": [
        "import numpy as np\n",
        "a=np.arange(15).reshape(3,5)\n",
        "print(\"法一:list(a):\", list(a))    \n",
        "print(\"法二:tolist():\", a.tolist())  "
      ],
      "execution_count": 23,
      "outputs": [
        {
          "output_type": "stream",
          "name": "stdout",
          "text": [
            "法一:list(a): [array([0, 1, 2, 3, 4]), array([5, 6, 7, 8, 9]), array([10, 11, 12, 13, 14])]\n",
            "法二:tolist(): [[0, 1, 2, 3, 4], [5, 6, 7, 8, 9], [10, 11, 12, 13, 14]]\n"
          ]
        }
      ]
    },
    {
      "cell_type": "markdown",
      "metadata": {
        "id": "HShFfYhDPfZ_"
      },
      "source": [
        "Ans:\n",
        "1.   法一:Array採用List轉換：只做到第1層之轉換\n",
        "2.   法二:Array採用tolist轉換：可做到各層巢狀之轉換"
      ]
    },
    {
      "cell_type": "markdown",
      "metadata": {
        "id": "gKWMSityRhsd"
      },
      "source": [
        "**2.請試著在程式中印出以下三個 NdArray 的屬性並且解釋結果？（屬性：ndim、shape、size、dtype、itemsize、length、type）**"
      ]
    },
    {
      "cell_type": "code",
      "metadata": {
        "colab": {
          "base_uri": "https://localhost:8080/"
        },
        "id": "uwpktm5aRrpS",
        "outputId": "23a8daa3-dbe2-40d6-cf0a-c328ee5b05bd"
      },
      "source": [
        "import numpy as np\n",
        "#a=np.arange(30).reshape(5,3,2)\n",
        "#a = np.random.randint(10, size=6) \n",
        "\n",
        "print(\"==========================\")\n",
        "a = np.random.randint(10, size=6) \n",
        "print(\"ndim=\",a.ndim)\n",
        "print(\"shape=\",a.shape)\n",
        "print(\"size=\",a.size)\n",
        "print(\"dtype=\",a.dtype)\n",
        "print(\"itemsize=\",a.itemsize)\n",
        "print(\"length=\",len(a))\n",
        "print(\"type=\",type(a))\n",
        "\n",
        "print(\"==========================\")\n",
        "b = np.random.randint(10, size=(3,4)) \n",
        "print(\"ndim=\",b.ndim)\n",
        "print(\"shape=\",b.shape)\n",
        "print(\"size=\",b.size)\n",
        "print(\"dtype=\",b.dtype)\n",
        "print(\"itemsize=\",b.itemsize)\n",
        "print(\"length=\",len(b))\n",
        "print(\"type=\",type(b))\n",
        "\n",
        "print(\"==========================\")\n",
        "c = np.random.randint(10, size=(2,3,2))\n",
        "print(\"ndim=\",c.ndim)\n",
        "print(\"shape=\",c.shape)\n",
        "print(\"size=\",c.size)\n",
        "print(\"dtype=\",c.dtype)\n",
        "print(\"itemsize=\",c.itemsize)\n",
        "print(\"length=\",len(c))\n",
        "print(\"type=\",type(c))\n",
        "print(\"==========================\")"
      ],
      "execution_count": 25,
      "outputs": [
        {
          "output_type": "stream",
          "name": "stdout",
          "text": [
            "==========================\n",
            "ndim= 1\n",
            "shape= (6,)\n",
            "size= 6\n",
            "dtype= int64\n",
            "itemsize= 8\n",
            "length= 6\n",
            "type= <class 'numpy.ndarray'>\n",
            "==========================\n",
            "ndim= 2\n",
            "shape= (3, 4)\n",
            "size= 12\n",
            "dtype= int64\n",
            "itemsize= 8\n",
            "length= 3\n",
            "type= <class 'numpy.ndarray'>\n",
            "==========================\n",
            "ndim= 3\n",
            "shape= (2, 3, 2)\n",
            "size= 12\n",
            "dtype= int64\n",
            "itemsize= 8\n",
            "length= 2\n",
            "type= <class 'numpy.ndarray'>\n",
            "==========================\n"
          ]
        }
      ]
    },
    {
      "cell_type": "markdown",
      "metadata": {
        "id": "645rid_tU65D"
      },
      "source": [
        "Ans:\n",
        "1.   ndim    :顯示Array是多少維度\n",
        "2.   shape   :顯示Array各個維度的元素個數\n",
        "3.   size    :顯示Array元素個數總和\n",
        "4.   dtype   :顯示Array元素之datatype\n",
        "5.   itemsize  :顯示Array元素所佔byte數\n",
        "6.   length   :顯示Array第一個維度的元素個數\n",
        "7.   type    :顯示Array在numpy中之type\n"
      ]
    }
  ]
}