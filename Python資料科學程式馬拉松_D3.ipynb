{
  "nbformat": 4,
  "nbformat_minor": 0,
  "metadata": {
    "colab": {
      "name": "Python資料科學程式馬拉松_D3.ipynb",
      "provenance": [],
      "collapsed_sections": [],
      "authorship_tag": "ABX9TyPW4y27PxfTgNlXffVQgDaz",
      "include_colab_link": true
    },
    "kernelspec": {
      "name": "python3",
      "display_name": "Python 3"
    },
    "language_info": {
      "name": "python"
    }
  },
  "cells": [
    {
      "cell_type": "markdown",
      "metadata": {
        "id": "view-in-github",
        "colab_type": "text"
      },
      "source": [
        "<a href=\"https://colab.research.google.com/github/jimmiychen/ML100Days/blob/main/Python%E8%B3%87%E6%96%99%E7%A7%91%E5%AD%B8%E7%A8%8B%E5%BC%8F%E9%A6%AC%E6%8B%89%E6%9D%BE_D3.ipynb\" target=\"_parent\"><img src=\"https://colab.research.google.com/assets/colab-badge.svg\" alt=\"Open In Colab\"/></a>"
      ]
    },
    {
      "cell_type": "markdown",
      "metadata": {
        "id": "H2ZkzEomOPDI"
      },
      "source": [
        ""
      ]
    },
    {
      "cell_type": "markdown",
      "metadata": {
        "id": "n55rc6PhORbX"
      },
      "source": [
        "# **[簡答題] 1.請比較 np.zeros 和 np.empty 產生出來的陣列有何差異？為什麼要設計兩種方法？**\n"
      ]
    },
    {
      "cell_type": "code",
      "metadata": {
        "colab": {
          "base_uri": "https://localhost:8080/"
        },
        "id": "Up9e2LoqOVTj",
        "outputId": "c5bda647-b664-46a0-b994-fff7589da51b"
      },
      "source": [
        "import numpy as np\n",
        "a=np.zeros(3).reshape(1,3)\n",
        "b=np.empty(3).reshape(1,3)\n",
        "print(\"a:\",a)    \n",
        "print(\"b:\",b)  "
      ],
      "execution_count": 9,
      "outputs": [
        {
          "output_type": "stream",
          "name": "stdout",
          "text": [
            "a: [[0. 0. 0.]]\n",
            "b: [[5.e-324 5.e-324 5.e-324]]\n"
          ]
        }
      ]
    },
    {
      "cell_type": "markdown",
      "metadata": {
        "id": "HShFfYhDPfZ_"
      },
      "source": [
        "Ans:\n",
        "1.   np.zeros產生預設值為1，且形狀固定之Array\n",
        "2.   np.empty產生形狀固定之Array，對於預設值則不是那麼在乎，故隨意給定一個很小的值即可\n",
        "3.   若一開始宣告Array不給定預設值，可能在後續進行運算時,出現不可預期之結果"
      ]
    },
    {
      "cell_type": "markdown",
      "metadata": {
        "id": "gKWMSityRhsd"
      },
      "source": [
        "# **2.請撰寫一個判斷 a 的元素是否等於指定資料型態的函式**"
      ]
    },
    {
      "cell_type": "code",
      "metadata": {
        "colab": {
          "base_uri": "https://localhost:8080/"
        },
        "id": "uwpktm5aRrpS",
        "outputId": "5ea0b4da-b860-45eb-aac6-9a9f2e588013"
      },
      "source": [
        "import numpy as np\n",
        "a=np.arange(8).reshape(2,4)\n",
        "\n",
        "def is_dtype(a,type):\n",
        "  return a.dtype is np.dtype(type)\n",
        "\n",
        "print(\"法一:\",is_dtype(a,'int64'))\n",
        "print(\"法二:\",is_dtype(a,np.int))\n",
        "print(\"法三:\",is_dtype(a,np.dtype('int')))\n"
      ],
      "execution_count": null,
      "outputs": [
        {
          "output_type": "stream",
          "name": "stdout",
          "text": [
            "法一: True\n",
            "法二: True\n",
            "法三: True\n"
          ]
        }
      ]
    },
    {
      "cell_type": "markdown",
      "metadata": {
        "id": "oGpbXROLbGrU"
      },
      "source": [
        "# **[簡答題] 3.承上題，請判斷下列三種寫法為何不正確？**"
      ]
    },
    {
      "cell_type": "code",
      "metadata": {
        "id": "rgmhB2-IbYic"
      },
      "source": [
        "import numpy as np\n",
        "a=np.arange(30).reshape(5,3,2)\n",
        "#a = np.random.randint(10, size=6) \n",
        "\n",
        "def is_dtype(a, t):\n",
        "    return a.dtype is t\n",
        "\n",
        "def is_dtype(a, t):\n",
        "    return type(a) == np.dtype(t)\n",
        "\n",
        "def is_dtype(a, t):\n",
        "    return type(a) is np.dtype(t)\n",
        "\n"
      ],
      "execution_count": null,
      "outputs": []
    },
    {
      "cell_type": "markdown",
      "metadata": {
        "id": "jufA5dkmfdVY"
      },
      "source": [
        "Ans:\n",
        "\n",
        "1.   is 為嚴格比較，兩者型態需相同\n",
        "2.   type(a)：顯示Array在numpy中之type，a.dtype：顯示Array元素之data type，兩者完全不同\n",
        "3.   綜合上述 1.+ 2. \n",
        "\n",
        "\n",
        "\n"
      ]
    }
  ]
}