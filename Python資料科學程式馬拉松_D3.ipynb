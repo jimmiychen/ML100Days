{
  "nbformat": 4,
  "nbformat_minor": 0,
  "metadata": {
    "colab": {
      "name": "Python資料科學程式馬拉松_D3.ipynb",
      "provenance": [],
      "collapsed_sections": [],
      "authorship_tag": "ABX9TyNI6Rl/YUJxtLDMbjCNfAuG",
      "include_colab_link": true
    },
    "kernelspec": {
      "name": "python3",
      "display_name": "Python 3"
    },
    "language_info": {
      "name": "python"
    }
  },
  "cells": [
    {
      "cell_type": "markdown",
      "metadata": {
        "id": "view-in-github",
        "colab_type": "text"
      },
      "source": [
        "<a href=\"https://colab.research.google.com/github/jimmiychen/ML100Days/blob/main/Python%E8%B3%87%E6%96%99%E7%A7%91%E5%AD%B8%E7%A8%8B%E5%BC%8F%E9%A6%AC%E6%8B%89%E6%9D%BE_D3.ipynb\" target=\"_parent\"><img src=\"https://colab.research.google.com/assets/colab-badge.svg\" alt=\"Open In Colab\"/></a>"
      ]
    },
    {
      "cell_type": "markdown",
      "metadata": {
        "id": "H2ZkzEomOPDI"
      },
      "source": [
        ""
      ]
    },
    {
      "cell_type": "markdown",
      "metadata": {
        "id": "n55rc6PhORbX"
      },
      "source": [
        "# **[簡答題] 1.請比較 np.zeros 和 np.empty 產生出來的陣列有何差異？為什麼要設計兩種方法？**\n"
      ]
    },
    {
      "cell_type": "code",
      "metadata": {
        "colab": {
          "base_uri": "https://localhost:8080/"
        },
        "id": "Up9e2LoqOVTj",
        "outputId": "c5bda647-b664-46a0-b994-fff7589da51b"
      },
      "source": [
        "import numpy as np\n",
        "a=np.zeros(3).reshape(1,3)\n",
        "b=np.empty(3).reshape(1,3)\n",
        "print(\"a:\",a)    \n",
        "print(\"b:\",b)  "
      ],
      "execution_count": 9,
      "outputs": [
        {
          "output_type": "stream",
          "name": "stdout",
          "text": [
            "a: [[0. 0. 0.]]\n",
            "b: [[5.e-324 5.e-324 5.e-324]]\n"
          ]
        }
      ]
    },
    {
      "cell_type": "markdown",
      "metadata": {
        "id": "HShFfYhDPfZ_"
      },
      "source": [
        "Ans:\n",
        "1.   np.zeros產生預設值為1，且形狀固定之Array\n",
        "2.   np.empty產生形狀固定之Array，對於預設值則不是那麼在乎，故隨意給定一個很小的值即可\n",
        "3.   若一開始宣告Array不給定預設值，可能在後續進行運算時,出現不可預期之結果"
      ]
    },
    {
      "cell_type": "markdown",
      "metadata": {
        "id": "gKWMSityRhsd"
      },
      "source": [
        "# **2.在不用「整數亂數方法」的限制下，如何將包含小數的轉換整數？請將給定的 a 陣列當中的元素變成去掉小數變成整數。**"
      ]
    },
    {
      "cell_type": "code",
      "metadata": {
        "colab": {
          "base_uri": "https://localhost:8080/"
        },
        "id": "uwpktm5aRrpS",
        "outputId": "b09e22a9-aa78-402e-9918-feab0c3d8edf"
      },
      "source": [
        "import numpy as np\n",
        "\n",
        "a=np.random.rand(2,3) #產生一個2x3的random Array\n",
        "a=a*100\n",
        "\n",
        "a=np.around(a) #numpy中的np.around相當於python的round\n",
        "print(a)\n"
      ],
      "execution_count": 26,
      "outputs": [
        {
          "output_type": "stream",
          "name": "stdout",
          "text": [
            "[[76. 79. 14.]\n",
            " [38.  7. 26.]]\n"
          ]
        }
      ]
    },
    {
      "cell_type": "markdown",
      "metadata": {
        "id": "oGpbXROLbGrU"
      },
      "source": [
        "# **3.承上題，怎樣可以限制整數的範圍介於 m - n 之間？請將給定的 a 陣列當中的元素的範圍調整成 m - n 之間。**"
      ]
    },
    {
      "cell_type": "code",
      "metadata": {
        "id": "rgmhB2-IbYic",
        "colab": {
          "base_uri": "https://localhost:8080/"
        },
        "outputId": "d1ba3985-d3f3-43d1-c7de-5dc6dc77cf4f"
      },
      "source": [
        "import numpy as np\n",
        "\n",
        "a=np.random.rand(10,10) #產生一個10x10的random Array\n",
        "m=0\n",
        "n=100\n",
        "\n",
        "a=m+(a*(n-m)) #原來產生0~1之亂數，現在放大n-m倍，並平移m\n",
        "\n",
        "a=np.around(a) #numpy中的np.around相當於python的round\n",
        "print(a)\n"
      ],
      "execution_count": 46,
      "outputs": [
        {
          "output_type": "stream",
          "name": "stdout",
          "text": [
            "[[18. 24. 40. 81. 98. 75.  3. 30. 67. 88.]\n",
            " [57.  4. 96. 56. 72. 35. 51.  8. 66. 18.]\n",
            " [97. 34. 39. 71. 34. 65. 90. 46. 51. 77.]\n",
            " [30. 10. 15. 84. 75. 45. 82. 18. 68. 65.]\n",
            " [61. 86.  4. 42. 79. 28. 97. 63. 30.  2.]\n",
            " [91. 72. 72. 38. 76. 27. 22. 29. 43. 87.]\n",
            " [37. 86. 63. 95. 65. 93. 16. 75. 31. 44.]\n",
            " [65.  7. 81.  9.  5. 53. 34. 61. 83. 51.]\n",
            " [ 2. 50. 35. 47. 50. 25. 37.  5. 39. 38.]\n",
            " [23. 68. 77. 94. 38.  9. 37. 15. 45. 45.]]\n"
          ]
        }
      ]
    }
  ]
}