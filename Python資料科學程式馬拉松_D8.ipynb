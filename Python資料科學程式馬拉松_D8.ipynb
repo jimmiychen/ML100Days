{
  "nbformat": 4,
  "nbformat_minor": 0,
  "metadata": {
    "colab": {
      "name": "Python資料科學程式馬拉松_D8.ipynb",
      "provenance": [],
      "collapsed_sections": [],
      "authorship_tag": "ABX9TyO0aW10zR9h8kddSh+ydKBM",
      "include_colab_link": true
    },
    "kernelspec": {
      "name": "python3",
      "display_name": "Python 3"
    },
    "language_info": {
      "name": "python"
    }
  },
  "cells": [
    {
      "cell_type": "markdown",
      "metadata": {
        "id": "view-in-github",
        "colab_type": "text"
      },
      "source": [
        "<a href=\"https://colab.research.google.com/github/jimmiychen/ML100Days/blob/main/Python%E8%B3%87%E6%96%99%E7%A7%91%E5%AD%B8%E7%A8%8B%E5%BC%8F%E9%A6%AC%E6%8B%89%E6%9D%BE_D8.ipynb\" target=\"_parent\"><img src=\"https://colab.research.google.com/assets/colab-badge.svg\" alt=\"Open In Colab\"/></a>"
      ]
    },
    {
      "cell_type": "markdown",
      "metadata": {
        "id": "n55rc6PhORbX"
      },
      "source": [
        "# **1.[簡答題] 請問 Pandas 套件最主要的貢獻是什麼？**\n",
        "Ans:\n",
        "1.   提供了快速高效的 DataFrame 結構 (類似Excel表格)\n",
        "2.   對於資料格式有高度的銜接性 (可吃.csv或.xls等)\n",
        "\n",
        "\n",
        "\n",
        "\n"
      ]
    },
    {
      "cell_type": "markdown",
      "metadata": {
        "id": "gKWMSityRhsd"
      },
      "source": [
        "# **2.根據提供的資料集，印出他們的屬性分別為何？**\n",
        "（屬性：shape、size、values、index、columns、dtypes、len）"
      ]
    },
    {
      "cell_type": "code",
      "metadata": {
        "colab": {
          "base_uri": "https://localhost:8080/"
        },
        "id": "uwpktm5aRrpS",
        "outputId": "31820ee6-6657-48c8-82e8-5275d5f33336"
      },
      "source": [
        "import numpy as np\n",
        "import pandas as pd\n",
        "df = pd.read_csv('https://raw.githubusercontent.com/MachineLearningLiuMing/scikit-learn-primer-guide/master/Data.csv')\n",
        "\n",
        "print(df)\n",
        "print(\"\\n\")\n",
        "print(\"shape=\",df.shape)\n",
        "print(\"\\n\")\n",
        "print(\"size=\",df.size)\n",
        "print(\"\\n\")\n",
        "print(\"value=\",df.values)\n",
        "print(\"\\n\")\n",
        "print(\"index=\",df.index)\n",
        "print(\"\\n\")\n",
        "print(\"columns=\",df.columns)\n",
        "print(\"\\n\")\n",
        "print(\"types=\",df.dtypes)\n",
        "print(\"\\n\")\n",
        "print(\"len=\",len(df))\n"
      ],
      "execution_count": 12,
      "outputs": [
        {
          "output_type": "stream",
          "name": "stdout",
          "text": [
            "   Country   Age   Salary Purchased\n",
            "0   France  44.0  72000.0        No\n",
            "1    Spain  27.0  48000.0       Yes\n",
            "2  Germany  30.0  54000.0        No\n",
            "3    Spain  38.0  61000.0        No\n",
            "4  Germany  40.0      NaN       Yes\n",
            "5   France  35.0  58000.0       Yes\n",
            "6    Spain   NaN  52000.0        No\n",
            "7   France  48.0  79000.0       Yes\n",
            "8  Germany  50.0  83000.0        No\n",
            "9   France  37.0  67000.0       Yes\n",
            "\n",
            "\n",
            "shape= (10, 4)\n",
            "\n",
            "\n",
            "size= 40\n",
            "\n",
            "\n",
            "value= [['France' 44.0 72000.0 'No']\n",
            " ['Spain' 27.0 48000.0 'Yes']\n",
            " ['Germany' 30.0 54000.0 'No']\n",
            " ['Spain' 38.0 61000.0 'No']\n",
            " ['Germany' 40.0 nan 'Yes']\n",
            " ['France' 35.0 58000.0 'Yes']\n",
            " ['Spain' nan 52000.0 'No']\n",
            " ['France' 48.0 79000.0 'Yes']\n",
            " ['Germany' 50.0 83000.0 'No']\n",
            " ['France' 37.0 67000.0 'Yes']]\n",
            "\n",
            "\n",
            "index= RangeIndex(start=0, stop=10, step=1)\n",
            "\n",
            "\n",
            "columns= Index(['Country', 'Age', 'Salary', 'Purchased'], dtype='object')\n",
            "\n",
            "\n",
            "types= Country       object\n",
            "Age          float64\n",
            "Salary       float64\n",
            "Purchased     object\n",
            "dtype: object\n",
            "\n",
            "\n",
            "len= 10\n"
          ]
        }
      ]
    }
  ]
}