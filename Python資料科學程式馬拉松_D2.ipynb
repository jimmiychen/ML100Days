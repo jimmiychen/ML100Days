{
  "nbformat": 4,
  "nbformat_minor": 0,
  "metadata": {
    "colab": {
      "name": "Python資料科學程式馬拉松_D2.ipynb",
      "provenance": [],
      "collapsed_sections": [],
      "authorship_tag": "ABX9TyMOnC4yWzszy052wSlmOOZ6",
      "include_colab_link": true
    },
    "kernelspec": {
      "name": "python3",
      "display_name": "Python 3"
    },
    "language_info": {
      "name": "python"
    }
  },
  "cells": [
    {
      "cell_type": "markdown",
      "metadata": {
        "id": "view-in-github",
        "colab_type": "text"
      },
      "source": [
        "<a href=\"https://colab.research.google.com/github/jimmiychen/ML100Days/blob/main/Python%E8%B3%87%E6%96%99%E7%A7%91%E5%AD%B8%E7%A8%8B%E5%BC%8F%E9%A6%AC%E6%8B%89%E6%9D%BE_D2.ipynb\" target=\"_parent\"><img src=\"https://colab.research.google.com/assets/colab-badge.svg\" alt=\"Open In Colab\"/></a>"
      ]
    },
    {
      "cell_type": "markdown",
      "metadata": {
        "id": "H2ZkzEomOPDI"
      },
      "source": [
        ""
      ]
    },
    {
      "cell_type": "markdown",
      "metadata": {
        "id": "n55rc6PhORbX"
      },
      "source": [
        "# **[簡答題] 1.請問 type(...) 跟 a.dtype 這兩個語法有什麼不同？**\n"
      ]
    },
    {
      "cell_type": "code",
      "metadata": {
        "colab": {
          "base_uri": "https://localhost:8080/"
        },
        "id": "Up9e2LoqOVTj",
        "outputId": "b10f105d-fc43-4702-b049-653a74656994"
      },
      "source": [
        "import numpy as np\n",
        "a=np.arange(15).reshape(3,5)\n",
        "\n",
        "print(\"法一:type(a):\", type(a))    \n",
        "print(\"法二:a.dtype:\", a.dtype)  "
      ],
      "execution_count": 4,
      "outputs": [
        {
          "output_type": "stream",
          "name": "stdout",
          "text": [
            "法一:type(a): <class 'numpy.ndarray'>\n",
            "法二:a.dtype: int64\n"
          ]
        }
      ]
    },
    {
      "cell_type": "markdown",
      "metadata": {
        "id": "HShFfYhDPfZ_"
      },
      "source": [
        "Ans:\n",
        "1.   法一:type(a)：顯示Array在numpy中之type\n",
        "2.   法二:a.dtype：顯示Array元素之data type"
      ]
    },
    {
      "cell_type": "markdown",
      "metadata": {
        "id": "gKWMSityRhsd"
      },
      "source": [
        "# **2.請撰寫一個判斷 a 的元素是否等於指定資料型態的函式**"
      ]
    },
    {
      "cell_type": "code",
      "metadata": {
        "colab": {
          "base_uri": "https://localhost:8080/"
        },
        "id": "uwpktm5aRrpS",
        "outputId": "5ea0b4da-b860-45eb-aac6-9a9f2e588013"
      },
      "source": [
        "import numpy as np\n",
        "a=np.arange(8).reshape(2,4)\n",
        "\n",
        "def is_dtype(a,type):\n",
        "  return a.dtype is np.dtype(type)\n",
        "\n",
        "print(\"法一:\",is_dtype(a,'int64'))\n",
        "print(\"法二:\",is_dtype(a,np.int))\n",
        "print(\"法三:\",is_dtype(a,np.dtype('int')))\n"
      ],
      "execution_count": 20,
      "outputs": [
        {
          "output_type": "stream",
          "name": "stdout",
          "text": [
            "法一: True\n",
            "法二: True\n",
            "法三: True\n"
          ]
        }
      ]
    },
    {
      "cell_type": "markdown",
      "metadata": {
        "id": "oGpbXROLbGrU"
      },
      "source": [
        "# **[簡答題] 3.承上題，請判斷下列三種寫法為何不正確？**"
      ]
    },
    {
      "cell_type": "code",
      "metadata": {
        "id": "rgmhB2-IbYic"
      },
      "source": [
        "import numpy as np\n",
        "a=np.arange(30).reshape(5,3,2)\n",
        "#a = np.random.randint(10, size=6) \n",
        "\n",
        "def is_dtype(a, t):\n",
        "    return a.dtype is t\n",
        "\n",
        "def is_dtype(a, t):\n",
        "    return type(a) == np.dtype(t)\n",
        "\n",
        "def is_dtype(a, t):\n",
        "    return type(a) is np.dtype(t)\n",
        "\n"
      ],
      "execution_count": 22,
      "outputs": []
    },
    {
      "cell_type": "markdown",
      "metadata": {
        "id": "jufA5dkmfdVY"
      },
      "source": [
        "Ans:\n",
        "\n",
        "1.   is 為嚴格比較，兩者型態需相同\n",
        "2.   type(a)：顯示Array在numpy中之type，a.dtype：顯示Array元素之data type，兩者完全不同\n",
        "3.   綜合上述 1.+ 2. \n",
        "\n",
        "\n",
        "\n"
      ]
    }
  ]
}