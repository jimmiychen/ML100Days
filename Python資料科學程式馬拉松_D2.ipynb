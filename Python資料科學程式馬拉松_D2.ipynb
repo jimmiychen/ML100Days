{
  "nbformat": 4,
  "nbformat_minor": 0,
  "metadata": {
    "colab": {
      "name": "Python資料科學程式馬拉松_D2.ipynb",
      "provenance": [],
      "collapsed_sections": [],
      "authorship_tag": "ABX9TyPAIZH+CkVoaDsJaGQS1ABA",
      "include_colab_link": true
    },
    "kernelspec": {
      "name": "python3",
      "display_name": "Python 3"
    },
    "language_info": {
      "name": "python"
    }
  },
  "cells": [
    {
      "cell_type": "markdown",
      "metadata": {
        "id": "view-in-github",
        "colab_type": "text"
      },
      "source": [
        "<a href=\"https://colab.research.google.com/github/jimmiychen/ML100Days/blob/main/Python%E8%B3%87%E6%96%99%E7%A7%91%E5%AD%B8%E7%A8%8B%E5%BC%8F%E9%A6%AC%E6%8B%89%E6%9D%BE_D2.ipynb\" target=\"_parent\"><img src=\"https://colab.research.google.com/assets/colab-badge.svg\" alt=\"Open In Colab\"/></a>"
      ]
    },
    {
      "cell_type": "markdown",
      "metadata": {
        "id": "H2ZkzEomOPDI"
      },
      "source": [
        ""
      ]
    },
    {
      "cell_type": "markdown",
      "metadata": {
        "id": "n55rc6PhORbX"
      },
      "source": [
        "# **[簡答題] 1.請問 type(...) 跟 a.dtype 這兩個語法有什麼不同？**\n"
      ]
    },
    {
      "cell_type": "code",
      "metadata": {
        "colab": {
          "base_uri": "https://localhost:8080/"
        },
        "id": "Up9e2LoqOVTj",
        "outputId": "b10f105d-fc43-4702-b049-653a74656994"
      },
      "source": [
        "import numpy as np\n",
        "a=np.arange(15).reshape(3,5)\n",
        "\n",
        "print(\"法一:type(a):\", type(a))    \n",
        "print(\"法二:a.dtype:\", a.dtype)  "
      ],
      "execution_count": 4,
      "outputs": [
        {
          "output_type": "stream",
          "name": "stdout",
          "text": [
            "法一:type(a): <class 'numpy.ndarray'>\n",
            "法二:a.dtype: int64\n"
          ]
        }
      ]
    },
    {
      "cell_type": "markdown",
      "metadata": {
        "id": "HShFfYhDPfZ_"
      },
      "source": [
        "Ans:\n",
        "1.   法一:type(a)：顯示Array在numpy中之type\n",
        "2.   法二:a.dtype：顯示Array元素之data type"
      ]
    },
    {
      "cell_type": "markdown",
      "metadata": {
        "id": "gKWMSityRhsd"
      },
      "source": [
        "# **2.請撰寫一個判斷 a 的元素是否等於指定資料型態的函式**"
      ]
    },
    {
      "cell_type": "code",
      "metadata": {
        "colab": {
          "base_uri": "https://localhost:8080/"
        },
        "id": "uwpktm5aRrpS",
        "outputId": "5ea0b4da-b860-45eb-aac6-9a9f2e588013"
      },
      "source": [
        "import numpy as np\n",
        "a=np.arange(8).reshape(2,4)\n",
        "\n",
        "def is_dtype(a,type):\n",
        "  return a.dtype is np.dtype(type)\n",
        "\n",
        "print(\"法一:\",is_dtype(a,'int64'))\n",
        "print(\"法二:\",is_dtype(a,np.int))\n",
        "print(\"法三:\",is_dtype(a,np.dtype('int')))\n"
      ],
      "execution_count": 20,
      "outputs": [
        {
          "output_type": "stream",
          "name": "stdout",
          "text": [
            "法一: True\n",
            "法二: True\n",
            "法三: True\n"
          ]
        }
      ]
    },
    {
      "cell_type": "markdown",
      "metadata": {
        "id": "oGpbXROLbGrU"
      },
      "source": [
        "# **3. 如何利用 list(...) 實現 a.tolist() 的效果？試著用程式實作。**"
      ]
    },
    {
      "cell_type": "code",
      "metadata": {
        "colab": {
          "base_uri": "https://localhost:8080/"
        },
        "id": "rgmhB2-IbYic",
        "outputId": "7f638a2f-2104-4130-b895-87a63f3b540e"
      },
      "source": [
        "import numpy as np\n",
        "#a=np.arange(30).reshape(5,3,2)\n",
        "#a = np.random.randint(10, size=6) \n",
        "\n",
        "print(\"==========================\")\n",
        "a = np.random.randint(10, size=6) \n",
        "print(\"法一:tolist():\", a.tolist()) \n",
        "print(\"法二:list(a):\", list(a))    \n",
        "print(\"\\n\") \n",
        "\n",
        "print(\"==========================\")\n",
        "b = np.random.randint(10, size=(3,4))\n",
        "print(\"法一:tolist():\", b.tolist())  \n",
        "print(\"法二:list(b):\", list(b))    \n",
        "print(\"\\n\") \n",
        "\n",
        "print(\"==========================\")\n",
        "c = np.random.randint(10, size=(2,3,2))\n",
        "print(\"法一:tolist():\", c.tolist()) \n",
        "print(\"法二:list(c):\", list(c))    \n",
        "print(\"\\n\") \n",
        "\n",
        "def list_append(test_array):\n",
        "  if(test_array)!=np.ndarray:\n",
        "    return test_array\n",
        "  else:\n",
        "    new_array=[]\n",
        "    for obj in test_array:\n",
        "      new_array.append(tolist(test_array))\n",
        "    return list(new_array)\n",
        "\n",
        "\n",
        "print(\"==========================\")\n",
        "print(\"法一:tolist():\", a.tolist()) \n",
        "print(\"法二:list(a):\", list(a))    \n",
        "print(\"法三:list_append展開--->list_append(a):\", list_append(a)) \n",
        "print(\"\\n\") \n",
        "\n",
        "print(\"==========================\")\n",
        "print(\"法一:tolist():\", b.tolist()) \n",
        "print(\"法二:list(b):\", list(b))    \n",
        "print(\"法三:list_append展開--->list_append(b):\", list_append(b)) \n",
        "print(\"\\n\") \n",
        "\n",
        "print(\"==========================\")\n",
        "print(\"法一:tolist():\", c.tolist()) \n",
        "print(\"法二:list(c):\", list(c))    \n",
        "print(\"法三:list_append展開--->list_append(c):\", list_append(c)) \n",
        "print(\"\\n\") \n"
      ],
      "execution_count": null,
      "outputs": [
        {
          "output_type": "stream",
          "name": "stdout",
          "text": [
            "==========================\n",
            "法一:tolist(): [7, 5, 3, 9, 0, 3]\n",
            "法二:list(a): [7, 5, 3, 9, 0, 3]\n",
            "\n",
            "\n",
            "==========================\n",
            "法一:tolist(): [[4, 7, 4, 4], [2, 5, 1, 9], [0, 9, 9, 3]]\n",
            "法二:list(b): [array([4, 7, 4, 4]), array([2, 5, 1, 9]), array([0, 9, 9, 3])]\n",
            "\n",
            "\n",
            "==========================\n",
            "法一:tolist(): [[[1, 8], [0, 4], [7, 1]], [[3, 4], [2, 8], [1, 0]]]\n",
            "法二:list(c): [array([[1, 8],\n",
            "       [0, 4],\n",
            "       [7, 1]]), array([[3, 4],\n",
            "       [2, 8],\n",
            "       [1, 0]])]\n",
            "\n",
            "\n",
            "==========================\n",
            "法一:tolist(): [7, 5, 3, 9, 0, 3]\n",
            "法二:list(a): [7, 5, 3, 9, 0, 3]\n",
            "法三:list_append展開--->list_append(a): [7 5 3 9 0 3]\n",
            "\n",
            "\n",
            "==========================\n",
            "法一:tolist(): [[4, 7, 4, 4], [2, 5, 1, 9], [0, 9, 9, 3]]\n",
            "法二:list(b): [array([4, 7, 4, 4]), array([2, 5, 1, 9]), array([0, 9, 9, 3])]\n",
            "法三:list_append展開--->list_append(b): [[4 7 4 4]\n",
            " [2 5 1 9]\n",
            " [0 9 9 3]]\n",
            "\n",
            "\n",
            "==========================\n",
            "法一:tolist(): [[[1, 8], [0, 4], [7, 1]], [[3, 4], [2, 8], [1, 0]]]\n",
            "法二:list(c): [array([[1, 8],\n",
            "       [0, 4],\n",
            "       [7, 1]]), array([[3, 4],\n",
            "       [2, 8],\n",
            "       [1, 0]])]\n",
            "法三:list_append展開--->list_append(c): [[[1 8]\n",
            "  [0 4]\n",
            "  [7 1]]\n",
            "\n",
            " [[3 4]\n",
            "  [2 8]\n",
            "  [1 0]]]\n",
            "\n",
            "\n"
          ]
        },
        {
          "output_type": "stream",
          "name": "stderr",
          "text": [
            "/usr/local/lib/python3.7/dist-packages/ipykernel_launcher.py:24: DeprecationWarning: elementwise comparison failed; this will raise an error in the future.\n"
          ]
        }
      ]
    },
    {
      "cell_type": "markdown",
      "metadata": {
        "id": "jufA5dkmfdVY"
      },
      "source": [
        "Ans:\n",
        "\n",
        "   利用for迴圈逐層對Array使用list(...)展開,即可達到a.tolist之效果\n",
        "\n"
      ]
    }
  ]
}