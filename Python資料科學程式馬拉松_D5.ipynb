{
  "nbformat": 4,
  "nbformat_minor": 0,
  "metadata": {
    "colab": {
      "name": "Python資料科學程式馬拉松_D5.ipynb",
      "provenance": [],
      "collapsed_sections": [],
      "authorship_tag": "ABX9TyOMvUKZA9q+SHuhGU69+LYI",
      "include_colab_link": true
    },
    "kernelspec": {
      "name": "python3",
      "display_name": "Python 3"
    },
    "language_info": {
      "name": "python"
    }
  },
  "cells": [
    {
      "cell_type": "markdown",
      "metadata": {
        "id": "view-in-github",
        "colab_type": "text"
      },
      "source": [
        "<a href=\"https://colab.research.google.com/github/jimmiychen/ML100Days/blob/main/Python%E8%B3%87%E6%96%99%E7%A7%91%E5%AD%B8%E7%A8%8B%E5%BC%8F%E9%A6%AC%E6%8B%89%E6%9D%BE_D5.ipynb\" target=\"_parent\"><img src=\"https://colab.research.google.com/assets/colab-badge.svg\" alt=\"Open In Colab\"/></a>"
      ]
    },
    {
      "cell_type": "markdown",
      "metadata": {
        "id": "H2ZkzEomOPDI"
      },
      "source": [
        ""
      ]
    },
    {
      "cell_type": "markdown",
      "metadata": {
        "id": "n55rc6PhORbX"
      },
      "source": [
        "# **1.產生一個 1-11 的一維陣列，並且把 3-6 由正數變成負數。**\n"
      ]
    },
    {
      "cell_type": "code",
      "metadata": {
        "colab": {
          "base_uri": "https://localhost:8080/"
        },
        "id": "Up9e2LoqOVTj",
        "outputId": "84219ffe-cbbf-4908-b9e2-a9767cdf3e2d"
      },
      "source": [
        "import numpy as np\n",
        "\n",
        "a=np.arange(11)+1\n",
        "print(\"原來:\",a)\n",
        "#with loop\n",
        "for i in range(0,len(a)):\n",
        "  if a[i]>=3 and a[i]<=6:\n",
        "    a[i]=-a[i]\n",
        "print(\"後來:\",a)\n"
      ],
      "execution_count": 18,
      "outputs": [
        {
          "output_type": "stream",
          "name": "stdout",
          "text": [
            "原來: [ 1  2  3  4  5  6  7  8  9 10 11]\n",
            "後來: [ 1  2 -3 -4 -5 -6  7  8  9 10 11]\n"
          ]
        }
      ]
    },
    {
      "cell_type": "markdown",
      "metadata": {
        "id": "gKWMSityRhsd"
      },
      "source": [
        "# **2.試著從一個隨機陣列中，找出比 0.5 大的數有幾個？。**"
      ]
    },
    {
      "cell_type": "code",
      "metadata": {
        "colab": {
          "base_uri": "https://localhost:8080/"
        },
        "id": "uwpktm5aRrpS",
        "outputId": "341308ea-6a16-4bc4-9191-ad2828bf558e"
      },
      "source": [
        "import numpy as np\n",
        "\n",
        "a=np.random.rand(3,6)\n",
        "b=np.full((3,6),0.5)  #指定Array所有值都是0.5\n",
        "\n",
        "print(a)\n",
        "print(b)\n",
        "\n",
        "c=a>b\n",
        "print(c)\n",
        "sum1=np.sum(c)\n",
        "print(\"法一:\",sum1)\n",
        "\n",
        "sum2=np.sum(a>0.5)\n",
        "print(\"法二:\",sum2)\n",
        "\n",
        "#對象：NumPy數組或矩陣，eg. data的元素為True和False\n",
        "#numpy.sum（data）　　　　　　　　      #統計data中True的個數\n",
        "#numpy.count_nonzero（data）　　       #統計data中True的個數\n",
        "\n",
        "#對象：NumPy數組或矩陣，eg. data的元素為數值\n",
        "#numpy.sum（data==0.2）　　　　　　　　   #統計data中數值為0.2的個數\n",
        "#numpy.count_nonzero（data==0.2）　　    #統計data中數值為0.2的個數\n",
        "#numpy.sum（data<0.2）　　　　　　　　    #統計data中數值小於0.2的個數\n",
        "#numpy.count_nonzero（data<0.2）　　     #統計data中數值小於0.2的個數\n"
      ],
      "execution_count": 19,
      "outputs": [
        {
          "output_type": "stream",
          "name": "stdout",
          "text": [
            "[[0.51393772 0.91497019 0.0859603  0.75227259 0.92415287 0.95747537]\n",
            " [0.3755492  0.86030112 0.00199226 0.66770722 0.27102292 0.45216188]\n",
            " [0.54491068 0.33605808 0.62746664 0.65082505 0.43913015 0.90335624]]\n",
            "[[0.5 0.5 0.5 0.5 0.5 0.5]\n",
            " [0.5 0.5 0.5 0.5 0.5 0.5]\n",
            " [0.5 0.5 0.5 0.5 0.5 0.5]]\n",
            "[[ True  True False  True  True  True]\n",
            " [False  True False  True False False]\n",
            " [ True False  True  True False  True]]\n",
            "法一: 11\n",
            "法二: 11\n"
          ]
        }
      ]
    }
  ]
}